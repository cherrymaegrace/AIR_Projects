{
  "cells": [
    {
      "cell_type": "markdown",
      "metadata": {
        "id": "dtXU7LqrEQtO"
      },
      "source": [
        "# Setup Guide\n",
        "\n",
        "This guide outlines the steps to set up and run the AI-powered marketing analysis tool demonstrated in this notebook.\n",
        "\n",
        "1. Install Libraries:\n",
        "  - OpenAI\n",
        "  - Swarm\n",
        "2. Import Libraries\n",
        "3. Authenticate with OpenAI:\n",
        "  - Replace `''` with your actual OpenAI API key\n",
        "4. Initialize Swarm Client\n",
        "5. Load Data\n",
        "6. Define Agents:\n",
        "  - **Performance Evaluator:** Evaluates traffic sources and campaigns based on key metrics.\n",
        "  - **Trend Analyzer:** Identifies patterns and anomalies in campaign performance over time.\n",
        "  - **Campaign Recommender:** Provides recommendations for optimizing campaigns and budget allocation.\n",
        "\n",
        "7. Run the Analysis:*\n",
        "  - Execute the code cells to run the agents and generate insights.\n",
        "\n",
        "8. Review Results:*\n",
        "  - The notebook outputs performance evaluations, trend analysis, and campaign recommendations.\n",
        "\n",
        "**Note:** Make sure you have an active internet connection to access the data and OpenAI API."
      ]
    },
    {
      "cell_type": "code",
      "execution_count": 1,
      "metadata": {
        "colab": {
          "base_uri": "https://localhost:8080/"
        },
        "collapsed": true,
        "id": "eNDRtBQ-yW3-",
        "outputId": "2f7a9944-d903-4051-e944-b23786d34c82"
      },
      "outputs": [
        {
          "name": "stdout",
          "output_type": "stream",
          "text": [
            "Collecting git+https://github.com/openai/swarm.git\n",
            "  Cloning https://github.com/openai/swarm.git to /tmp/pip-req-build-rllld51c\n",
            "  Running command git clone --filter=blob:none --quiet https://github.com/openai/swarm.git /tmp/pip-req-build-rllld51c\n",
            "  Resolved https://github.com/openai/swarm.git to commit 9db581cecaacea0d46a933d6453c312b034dbf47\n",
            "  Installing build dependencies ... \u001b[?25l\u001b[?25hdone\n",
            "  Getting requirements to build wheel ... \u001b[?25l\u001b[?25hdone\n",
            "  Preparing metadata (pyproject.toml) ... \u001b[?25l\u001b[?25hdone\n",
            "Requirement already satisfied: numpy in /usr/local/lib/python3.10/dist-packages (from swarm==0.1.0) (1.26.4)\n",
            "Requirement already satisfied: openai>=1.33.0 in /usr/local/lib/python3.10/dist-packages (from swarm==0.1.0) (1.54.5)\n",
            "Requirement already satisfied: pytest in /usr/local/lib/python3.10/dist-packages (from swarm==0.1.0) (8.3.4)\n",
            "Requirement already satisfied: requests in /usr/local/lib/python3.10/dist-packages (from swarm==0.1.0) (2.32.3)\n",
            "Requirement already satisfied: tqdm in /usr/local/lib/python3.10/dist-packages (from swarm==0.1.0) (4.66.6)\n",
            "Requirement already satisfied: pre-commit in /usr/local/lib/python3.10/dist-packages (from swarm==0.1.0) (4.0.1)\n",
            "Requirement already satisfied: instructor in /usr/local/lib/python3.10/dist-packages (from swarm==0.1.0) (1.7.0)\n",
            "Requirement already satisfied: anyio<5,>=3.5.0 in /usr/local/lib/python3.10/dist-packages (from openai>=1.33.0->swarm==0.1.0) (3.7.1)\n",
            "Requirement already satisfied: distro<2,>=1.7.0 in /usr/local/lib/python3.10/dist-packages (from openai>=1.33.0->swarm==0.1.0) (1.9.0)\n",
            "Requirement already satisfied: httpx<1,>=0.23.0 in /usr/local/lib/python3.10/dist-packages (from openai>=1.33.0->swarm==0.1.0) (0.27.2)\n",
            "Requirement already satisfied: jiter<1,>=0.4.0 in /usr/local/lib/python3.10/dist-packages (from openai>=1.33.0->swarm==0.1.0) (0.6.1)\n",
            "Requirement already satisfied: pydantic<3,>=1.9.0 in /usr/local/lib/python3.10/dist-packages (from openai>=1.33.0->swarm==0.1.0) (2.10.2)\n",
            "Requirement already satisfied: sniffio in /usr/local/lib/python3.10/dist-packages (from openai>=1.33.0->swarm==0.1.0) (1.3.1)\n",
            "Requirement already satisfied: typing-extensions<5,>=4.11 in /usr/local/lib/python3.10/dist-packages (from openai>=1.33.0->swarm==0.1.0) (4.12.2)\n",
            "Requirement already satisfied: aiohttp<4.0.0,>=3.9.1 in /usr/local/lib/python3.10/dist-packages (from instructor->swarm==0.1.0) (3.11.9)\n",
            "Requirement already satisfied: docstring-parser<0.17,>=0.16 in /usr/local/lib/python3.10/dist-packages (from instructor->swarm==0.1.0) (0.16)\n",
            "Requirement already satisfied: jinja2<4.0.0,>=3.1.4 in /usr/local/lib/python3.10/dist-packages (from instructor->swarm==0.1.0) (3.1.4)\n",
            "Requirement already satisfied: pydantic-core<3.0.0,>=2.18.0 in /usr/local/lib/python3.10/dist-packages (from instructor->swarm==0.1.0) (2.27.1)\n",
            "Requirement already satisfied: rich<14.0.0,>=13.7.0 in /usr/local/lib/python3.10/dist-packages (from instructor->swarm==0.1.0) (13.9.4)\n",
            "Requirement already satisfied: tenacity<10.0.0,>=9.0.0 in /usr/local/lib/python3.10/dist-packages (from instructor->swarm==0.1.0) (9.0.0)\n",
            "Requirement already satisfied: typer<1.0.0,>=0.9.0 in /usr/local/lib/python3.10/dist-packages (from instructor->swarm==0.1.0) (0.14.0)\n",
            "Requirement already satisfied: charset-normalizer<4,>=2 in /usr/local/lib/python3.10/dist-packages (from requests->swarm==0.1.0) (3.4.0)\n",
            "Requirement already satisfied: idna<4,>=2.5 in /usr/local/lib/python3.10/dist-packages (from requests->swarm==0.1.0) (3.10)\n",
            "Requirement already satisfied: urllib3<3,>=1.21.1 in /usr/local/lib/python3.10/dist-packages (from requests->swarm==0.1.0) (2.2.3)\n",
            "Requirement already satisfied: certifi>=2017.4.17 in /usr/local/lib/python3.10/dist-packages (from requests->swarm==0.1.0) (2024.8.30)\n",
            "Requirement already satisfied: cfgv>=2.0.0 in /usr/local/lib/python3.10/dist-packages (from pre-commit->swarm==0.1.0) (3.4.0)\n",
            "Requirement already satisfied: identify>=1.0.0 in /usr/local/lib/python3.10/dist-packages (from pre-commit->swarm==0.1.0) (2.6.3)\n",
            "Requirement already satisfied: nodeenv>=0.11.1 in /usr/local/lib/python3.10/dist-packages (from pre-commit->swarm==0.1.0) (1.9.1)\n",
            "Requirement already satisfied: pyyaml>=5.1 in /usr/local/lib/python3.10/dist-packages (from pre-commit->swarm==0.1.0) (6.0.2)\n",
            "Requirement already satisfied: virtualenv>=20.10.0 in /usr/local/lib/python3.10/dist-packages (from pre-commit->swarm==0.1.0) (20.28.0)\n",
            "Requirement already satisfied: exceptiongroup>=1.0.0rc8 in /usr/local/lib/python3.10/dist-packages (from pytest->swarm==0.1.0) (1.2.2)\n",
            "Requirement already satisfied: iniconfig in /usr/local/lib/python3.10/dist-packages (from pytest->swarm==0.1.0) (2.0.0)\n",
            "Requirement already satisfied: packaging in /usr/local/lib/python3.10/dist-packages (from pytest->swarm==0.1.0) (24.2)\n",
            "Requirement already satisfied: pluggy<2,>=1.5 in /usr/local/lib/python3.10/dist-packages (from pytest->swarm==0.1.0) (1.5.0)\n",
            "Requirement already satisfied: tomli>=1 in /usr/local/lib/python3.10/dist-packages (from pytest->swarm==0.1.0) (2.2.1)\n",
            "Requirement already satisfied: aiohappyeyeballs>=2.3.0 in /usr/local/lib/python3.10/dist-packages (from aiohttp<4.0.0,>=3.9.1->instructor->swarm==0.1.0) (2.4.4)\n",
            "Requirement already satisfied: aiosignal>=1.1.2 in /usr/local/lib/python3.10/dist-packages (from aiohttp<4.0.0,>=3.9.1->instructor->swarm==0.1.0) (1.3.1)\n",
            "Requirement already satisfied: async-timeout<6.0,>=4.0 in /usr/local/lib/python3.10/dist-packages (from aiohttp<4.0.0,>=3.9.1->instructor->swarm==0.1.0) (4.0.3)\n",
            "Requirement already satisfied: attrs>=17.3.0 in /usr/local/lib/python3.10/dist-packages (from aiohttp<4.0.0,>=3.9.1->instructor->swarm==0.1.0) (24.2.0)\n",
            "Requirement already satisfied: frozenlist>=1.1.1 in /usr/local/lib/python3.10/dist-packages (from aiohttp<4.0.0,>=3.9.1->instructor->swarm==0.1.0) (1.5.0)\n",
            "Requirement already satisfied: multidict<7.0,>=4.5 in /usr/local/lib/python3.10/dist-packages (from aiohttp<4.0.0,>=3.9.1->instructor->swarm==0.1.0) (6.1.0)\n",
            "Requirement already satisfied: propcache>=0.2.0 in /usr/local/lib/python3.10/dist-packages (from aiohttp<4.0.0,>=3.9.1->instructor->swarm==0.1.0) (0.2.1)\n",
            "Requirement already satisfied: yarl<2.0,>=1.17.0 in /usr/local/lib/python3.10/dist-packages (from aiohttp<4.0.0,>=3.9.1->instructor->swarm==0.1.0) (1.18.3)\n",
            "Requirement already satisfied: httpcore==1.* in /usr/local/lib/python3.10/dist-packages (from httpx<1,>=0.23.0->openai>=1.33.0->swarm==0.1.0) (1.0.7)\n",
            "Requirement already satisfied: h11<0.15,>=0.13 in /usr/local/lib/python3.10/dist-packages (from httpcore==1.*->httpx<1,>=0.23.0->openai>=1.33.0->swarm==0.1.0) (0.14.0)\n",
            "Requirement already satisfied: MarkupSafe>=2.0 in /usr/local/lib/python3.10/dist-packages (from jinja2<4.0.0,>=3.1.4->instructor->swarm==0.1.0) (3.0.2)\n",
            "Requirement already satisfied: annotated-types>=0.6.0 in /usr/local/lib/python3.10/dist-packages (from pydantic<3,>=1.9.0->openai>=1.33.0->swarm==0.1.0) (0.7.0)\n",
            "Requirement already satisfied: markdown-it-py>=2.2.0 in /usr/local/lib/python3.10/dist-packages (from rich<14.0.0,>=13.7.0->instructor->swarm==0.1.0) (3.0.0)\n",
            "Requirement already satisfied: pygments<3.0.0,>=2.13.0 in /usr/local/lib/python3.10/dist-packages (from rich<14.0.0,>=13.7.0->instructor->swarm==0.1.0) (2.18.0)\n",
            "Requirement already satisfied: click>=8.0.0 in /usr/local/lib/python3.10/dist-packages (from typer<1.0.0,>=0.9.0->instructor->swarm==0.1.0) (8.1.7)\n",
            "Requirement already satisfied: shellingham>=1.3.0 in /usr/local/lib/python3.10/dist-packages (from typer<1.0.0,>=0.9.0->instructor->swarm==0.1.0) (1.5.4)\n",
            "Requirement already satisfied: distlib<1,>=0.3.7 in /usr/local/lib/python3.10/dist-packages (from virtualenv>=20.10.0->pre-commit->swarm==0.1.0) (0.3.9)\n",
            "Requirement already satisfied: filelock<4,>=3.12.2 in /usr/local/lib/python3.10/dist-packages (from virtualenv>=20.10.0->pre-commit->swarm==0.1.0) (3.16.1)\n",
            "Requirement already satisfied: platformdirs<5,>=3.9.1 in /usr/local/lib/python3.10/dist-packages (from virtualenv>=20.10.0->pre-commit->swarm==0.1.0) (4.3.6)\n",
            "Requirement already satisfied: mdurl~=0.1 in /usr/local/lib/python3.10/dist-packages (from markdown-it-py>=2.2.0->rich<14.0.0,>=13.7.0->instructor->swarm==0.1.0) (0.1.2)\n",
            "Requirement already satisfied: openai in /usr/local/lib/python3.10/dist-packages (1.54.5)\n",
            "Requirement already satisfied: httpx==0.27.2 in /usr/local/lib/python3.10/dist-packages (0.27.2)\n",
            "Requirement already satisfied: anyio in /usr/local/lib/python3.10/dist-packages (from httpx==0.27.2) (3.7.1)\n",
            "Requirement already satisfied: certifi in /usr/local/lib/python3.10/dist-packages (from httpx==0.27.2) (2024.8.30)\n",
            "Requirement already satisfied: httpcore==1.* in /usr/local/lib/python3.10/dist-packages (from httpx==0.27.2) (1.0.7)\n",
            "Requirement already satisfied: idna in /usr/local/lib/python3.10/dist-packages (from httpx==0.27.2) (3.10)\n",
            "Requirement already satisfied: sniffio in /usr/local/lib/python3.10/dist-packages (from httpx==0.27.2) (1.3.1)\n",
            "Requirement already satisfied: h11<0.15,>=0.13 in /usr/local/lib/python3.10/dist-packages (from httpcore==1.*->httpx==0.27.2) (0.14.0)\n",
            "Requirement already satisfied: distro<2,>=1.7.0 in /usr/local/lib/python3.10/dist-packages (from openai) (1.9.0)\n",
            "Requirement already satisfied: jiter<1,>=0.4.0 in /usr/local/lib/python3.10/dist-packages (from openai) (0.6.1)\n",
            "Requirement already satisfied: pydantic<3,>=1.9.0 in /usr/local/lib/python3.10/dist-packages (from openai) (2.10.2)\n",
            "Requirement already satisfied: tqdm>4 in /usr/local/lib/python3.10/dist-packages (from openai) (4.66.6)\n",
            "Requirement already satisfied: typing-extensions<5,>=4.11 in /usr/local/lib/python3.10/dist-packages (from openai) (4.12.2)\n",
            "Requirement already satisfied: exceptiongroup in /usr/local/lib/python3.10/dist-packages (from anyio->httpx==0.27.2) (1.2.2)\n",
            "Requirement already satisfied: annotated-types>=0.6.0 in /usr/local/lib/python3.10/dist-packages (from pydantic<3,>=1.9.0->openai) (0.7.0)\n",
            "Requirement already satisfied: pydantic-core==2.27.1 in /usr/local/lib/python3.10/dist-packages (from pydantic<3,>=1.9.0->openai) (2.27.1)\n"
          ]
        }
      ],
      "source": [
        "!pip install git+https://github.com/openai/swarm.git\n",
        "!pip install openai httpx==0.27.2"
      ]
    },
    {
      "cell_type": "code",
      "execution_count": 2,
      "metadata": {
        "id": "hSqS51AzzKa1"
      },
      "outputs": [],
      "source": [
        "import pandas as pd\n",
        "import numpy as np\n",
        "from openai import OpenAI\n",
        "from swarm import Swarm, Agent\n",
        "from scipy.stats import zscore"
      ]
    },
    {
      "cell_type": "code",
      "execution_count": 3,
      "metadata": {
        "id": "fnTg2XBdzeVV"
      },
      "outputs": [],
      "source": [
        "api = OpenAI(api_key='')"
      ]
    },
    {
      "cell_type": "code",
      "execution_count": 4,
      "metadata": {
        "id": "yE8n-QdjD1U1"
      },
      "outputs": [],
      "source": [
        "client = Swarm(api)"
      ]
    },
    {
      "cell_type": "code",
      "execution_count": 5,
      "metadata": {
        "colab": {
          "base_uri": "https://localhost:8080/",
          "height": 206
        },
        "id": "AHHFguLQ2Xcl",
        "outputId": "c6e09f4b-1c70-4588-fad2-cff02917f92c"
      },
      "outputs": [
        {
          "data": {
            "application/vnd.google.colaboratory.intrinsic+json": {
              "summary": "{\n  \"name\": \"data\",\n  \"rows\": 52721,\n  \"fields\": [\n    {\n      \"column\": \"date\",\n      \"properties\": {\n        \"dtype\": \"object\",\n        \"num_unique_values\": 274,\n        \"samples\": [\n          \"2020-05-30\",\n          \"2020-01-30\",\n          \"2020-01-20\"\n        ],\n        \"semantic_type\": \"\",\n        \"description\": \"\"\n      }\n    },\n    {\n      \"column\": \"source\",\n      \"properties\": {\n        \"dtype\": \"category\",\n        \"num_unique_values\": 22,\n        \"samples\": [\n          \"google\",\n          \"actionpay\",\n          \"mytarget\"\n        ],\n        \"semantic_type\": \"\",\n        \"description\": \"\"\n      }\n    },\n    {\n      \"column\": \"medium\",\n      \"properties\": {\n        \"dtype\": \"category\",\n        \"num_unique_values\": 6,\n        \"samples\": [\n          \"organic\",\n          \"cpc\",\n          \"social\"\n        ],\n        \"semantic_type\": \"\",\n        \"description\": \"\"\n      }\n    },\n    {\n      \"column\": \"delivery_available\",\n      \"properties\": {\n        \"dtype\": \"category\",\n        \"num_unique_values\": 3,\n        \"samples\": [\n          \"no data\",\n          \"yes\",\n          \"no\"\n        ],\n        \"semantic_type\": \"\",\n        \"description\": \"\"\n      }\n    },\n    {\n      \"column\": \"device_type\",\n      \"properties\": {\n        \"dtype\": \"category\",\n        \"num_unique_values\": 3,\n        \"samples\": [\n          \"PC\",\n          \"mobile\",\n          \"no data\"\n        ],\n        \"semantic_type\": \"\",\n        \"description\": \"\"\n      }\n    },\n    {\n      \"column\": \"promo_activated\",\n      \"properties\": {\n        \"dtype\": \"category\",\n        \"num_unique_values\": 2,\n        \"samples\": [\n          \"yes\",\n          \"no\"\n        ],\n        \"semantic_type\": \"\",\n        \"description\": \"\"\n      }\n    },\n    {\n      \"column\": \"filter_used\",\n      \"properties\": {\n        \"dtype\": \"category\",\n        \"num_unique_values\": 2,\n        \"samples\": [\n          \"yes\",\n          \"no\"\n        ],\n        \"semantic_type\": \"\",\n        \"description\": \"\"\n      }\n    },\n    {\n      \"column\": \"pageviews\",\n      \"properties\": {\n        \"dtype\": \"number\",\n        \"std\": 1452,\n        \"min\": 0,\n        \"max\": 34832,\n        \"num_unique_values\": 4324,\n        \"samples\": [\n          2450,\n          4454\n        ],\n        \"semantic_type\": \"\",\n        \"description\": \"\"\n      }\n    },\n    {\n      \"column\": \"visits\",\n      \"properties\": {\n        \"dtype\": \"number\",\n        \"std\": 384,\n        \"min\": 1,\n        \"max\": 6975,\n        \"num_unique_values\": 2205,\n        \"samples\": [\n          1066,\n          1847\n        ],\n        \"semantic_type\": \"\",\n        \"description\": \"\"\n      }\n    },\n    {\n      \"column\": \"productClick\",\n      \"properties\": {\n        \"dtype\": \"number\",\n        \"std\": 2100,\n        \"min\": 0,\n        \"max\": 32460,\n        \"num_unique_values\": 1373,\n        \"samples\": [\n          860,\n          6600\n        ],\n        \"semantic_type\": \"\",\n        \"description\": \"\"\n      }\n    },\n    {\n      \"column\": \"addToCart\",\n      \"properties\": {\n        \"dtype\": \"number\",\n        \"std\": 419,\n        \"min\": 0,\n        \"max\": 6486,\n        \"num_unique_values\": 1363,\n        \"samples\": [\n          2842,\n          2288\n        ],\n        \"semantic_type\": \"\",\n        \"description\": \"\"\n      }\n    },\n    {\n      \"column\": \"checkout\",\n      \"properties\": {\n        \"dtype\": \"number\",\n        \"std\": 441.13399071529665,\n        \"min\": 0.0,\n        \"max\": 4936.96,\n        \"num_unique_values\": 2022,\n        \"samples\": [\n          1868.8,\n          2289.92\n        ],\n        \"semantic_type\": \"\",\n        \"description\": \"\"\n      }\n    },\n    {\n      \"column\": \"transactions\",\n      \"properties\": {\n        \"dtype\": \"number\",\n        \"std\": 52,\n        \"min\": 0,\n        \"max\": 1113,\n        \"num_unique_values\": 497,\n        \"samples\": [\n          669,\n          47\n        ],\n        \"semantic_type\": \"\",\n        \"description\": \"\"\n      }\n    },\n    {\n      \"column\": \"revenue\",\n      \"properties\": {\n        \"dtype\": \"category\",\n        \"num_unique_values\": 21242,\n        \"samples\": [\n          \"\\u20b110,498\",\n          \"\\u20b11,167,123\"\n        ],\n        \"semantic_type\": \"\",\n        \"description\": \"\"\n      }\n    },\n    {\n      \"column\": \"ad spend\",\n      \"properties\": {\n        \"dtype\": \"string\",\n        \"num_unique_values\": 51201,\n        \"samples\": [\n          \"\\u20b1257,629\",\n          \"\\u20b1490,888\"\n        ],\n        \"semantic_type\": \"\",\n        \"description\": \"\"\n      }\n    }\n  ]\n}",
              "type": "dataframe",
              "variable_name": "data"
            },
            "text/html": [
              "\n",
              "  <div id=\"df-3ca9a04c-05d4-4610-a89d-5c99f11c8701\" class=\"colab-df-container\">\n",
              "    <div>\n",
              "<style scoped>\n",
              "    .dataframe tbody tr th:only-of-type {\n",
              "        vertical-align: middle;\n",
              "    }\n",
              "\n",
              "    .dataframe tbody tr th {\n",
              "        vertical-align: top;\n",
              "    }\n",
              "\n",
              "    .dataframe thead th {\n",
              "        text-align: right;\n",
              "    }\n",
              "</style>\n",
              "<table border=\"1\" class=\"dataframe\">\n",
              "  <thead>\n",
              "    <tr style=\"text-align: right;\">\n",
              "      <th></th>\n",
              "      <th>date</th>\n",
              "      <th>source</th>\n",
              "      <th>medium</th>\n",
              "      <th>delivery_available</th>\n",
              "      <th>device_type</th>\n",
              "      <th>promo_activated</th>\n",
              "      <th>filter_used</th>\n",
              "      <th>pageviews</th>\n",
              "      <th>visits</th>\n",
              "      <th>productClick</th>\n",
              "      <th>addToCart</th>\n",
              "      <th>checkout</th>\n",
              "      <th>transactions</th>\n",
              "      <th>revenue</th>\n",
              "      <th>ad spend</th>\n",
              "    </tr>\n",
              "  </thead>\n",
              "  <tbody>\n",
              "    <tr>\n",
              "      <th>0</th>\n",
              "      <td>2020-05-11</td>\n",
              "      <td>google</td>\n",
              "      <td>organic</td>\n",
              "      <td>no data</td>\n",
              "      <td>PC</td>\n",
              "      <td>no</td>\n",
              "      <td>no</td>\n",
              "      <td>4087</td>\n",
              "      <td>1233</td>\n",
              "      <td>5240</td>\n",
              "      <td>1048</td>\n",
              "      <td>672.00</td>\n",
              "      <td>90</td>\n",
              "      <td>₱456,877</td>\n",
              "      <td>₱384,039</td>\n",
              "    </tr>\n",
              "    <tr>\n",
              "      <th>1</th>\n",
              "      <td>2020-05-11</td>\n",
              "      <td>facebook</td>\n",
              "      <td>cpc</td>\n",
              "      <td>no data</td>\n",
              "      <td>mobile</td>\n",
              "      <td>yes</td>\n",
              "      <td>no</td>\n",
              "      <td>4326</td>\n",
              "      <td>544</td>\n",
              "      <td>9930</td>\n",
              "      <td>1984</td>\n",
              "      <td>1812.48</td>\n",
              "      <td>217</td>\n",
              "      <td>₱1,289,066</td>\n",
              "      <td>₱817,514</td>\n",
              "    </tr>\n",
              "    <tr>\n",
              "      <th>2</th>\n",
              "      <td>2020-05-11</td>\n",
              "      <td>google</td>\n",
              "      <td>cpc</td>\n",
              "      <td>no data</td>\n",
              "      <td>mobile</td>\n",
              "      <td>no</td>\n",
              "      <td>no</td>\n",
              "      <td>3891</td>\n",
              "      <td>1450</td>\n",
              "      <td>5460</td>\n",
              "      <td>1090</td>\n",
              "      <td>766.72</td>\n",
              "      <td>100</td>\n",
              "      <td>₱554,427</td>\n",
              "      <td>₱435,105</td>\n",
              "    </tr>\n",
              "    <tr>\n",
              "      <th>3</th>\n",
              "      <td>2020-05-11</td>\n",
              "      <td>google</td>\n",
              "      <td>cpc</td>\n",
              "      <td>no data</td>\n",
              "      <td>PC</td>\n",
              "      <td>no</td>\n",
              "      <td>no</td>\n",
              "      <td>2456</td>\n",
              "      <td>854</td>\n",
              "      <td>4250</td>\n",
              "      <td>848</td>\n",
              "      <td>520.96</td>\n",
              "      <td>71</td>\n",
              "      <td>₱416,561</td>\n",
              "      <td>₱635,599</td>\n",
              "    </tr>\n",
              "    <tr>\n",
              "      <th>4</th>\n",
              "      <td>2020-05-11</td>\n",
              "      <td>facebook</td>\n",
              "      <td>organic</td>\n",
              "      <td>no data</td>\n",
              "      <td>PC</td>\n",
              "      <td>no</td>\n",
              "      <td>no</td>\n",
              "      <td>2828</td>\n",
              "      <td>1000</td>\n",
              "      <td>4110</td>\n",
              "      <td>824</td>\n",
              "      <td>449.28</td>\n",
              "      <td>62</td>\n",
              "      <td>₱326,176</td>\n",
              "      <td>₱428,962</td>\n",
              "    </tr>\n",
              "  </tbody>\n",
              "</table>\n",
              "</div>\n",
              "    <div class=\"colab-df-buttons\">\n",
              "\n",
              "  <div class=\"colab-df-container\">\n",
              "    <button class=\"colab-df-convert\" onclick=\"convertToInteractive('df-3ca9a04c-05d4-4610-a89d-5c99f11c8701')\"\n",
              "            title=\"Convert this dataframe to an interactive table.\"\n",
              "            style=\"display:none;\">\n",
              "\n",
              "  <svg xmlns=\"http://www.w3.org/2000/svg\" height=\"24px\" viewBox=\"0 -960 960 960\">\n",
              "    <path d=\"M120-120v-720h720v720H120Zm60-500h600v-160H180v160Zm220 220h160v-160H400v160Zm0 220h160v-160H400v160ZM180-400h160v-160H180v160Zm440 0h160v-160H620v160ZM180-180h160v-160H180v160Zm440 0h160v-160H620v160Z\"/>\n",
              "  </svg>\n",
              "    </button>\n",
              "\n",
              "  <style>\n",
              "    .colab-df-container {\n",
              "      display:flex;\n",
              "      gap: 12px;\n",
              "    }\n",
              "\n",
              "    .colab-df-convert {\n",
              "      background-color: #E8F0FE;\n",
              "      border: none;\n",
              "      border-radius: 50%;\n",
              "      cursor: pointer;\n",
              "      display: none;\n",
              "      fill: #1967D2;\n",
              "      height: 32px;\n",
              "      padding: 0 0 0 0;\n",
              "      width: 32px;\n",
              "    }\n",
              "\n",
              "    .colab-df-convert:hover {\n",
              "      background-color: #E2EBFA;\n",
              "      box-shadow: 0px 1px 2px rgba(60, 64, 67, 0.3), 0px 1px 3px 1px rgba(60, 64, 67, 0.15);\n",
              "      fill: #174EA6;\n",
              "    }\n",
              "\n",
              "    .colab-df-buttons div {\n",
              "      margin-bottom: 4px;\n",
              "    }\n",
              "\n",
              "    [theme=dark] .colab-df-convert {\n",
              "      background-color: #3B4455;\n",
              "      fill: #D2E3FC;\n",
              "    }\n",
              "\n",
              "    [theme=dark] .colab-df-convert:hover {\n",
              "      background-color: #434B5C;\n",
              "      box-shadow: 0px 1px 3px 1px rgba(0, 0, 0, 0.15);\n",
              "      filter: drop-shadow(0px 1px 2px rgba(0, 0, 0, 0.3));\n",
              "      fill: #FFFFFF;\n",
              "    }\n",
              "  </style>\n",
              "\n",
              "    <script>\n",
              "      const buttonEl =\n",
              "        document.querySelector('#df-3ca9a04c-05d4-4610-a89d-5c99f11c8701 button.colab-df-convert');\n",
              "      buttonEl.style.display =\n",
              "        google.colab.kernel.accessAllowed ? 'block' : 'none';\n",
              "\n",
              "      async function convertToInteractive(key) {\n",
              "        const element = document.querySelector('#df-3ca9a04c-05d4-4610-a89d-5c99f11c8701');\n",
              "        const dataTable =\n",
              "          await google.colab.kernel.invokeFunction('convertToInteractive',\n",
              "                                                    [key], {});\n",
              "        if (!dataTable) return;\n",
              "\n",
              "        const docLinkHtml = 'Like what you see? Visit the ' +\n",
              "          '<a target=\"_blank\" href=https://colab.research.google.com/notebooks/data_table.ipynb>data table notebook</a>'\n",
              "          + ' to learn more about interactive tables.';\n",
              "        element.innerHTML = '';\n",
              "        dataTable['output_type'] = 'display_data';\n",
              "        await google.colab.output.renderOutput(dataTable, element);\n",
              "        const docLink = document.createElement('div');\n",
              "        docLink.innerHTML = docLinkHtml;\n",
              "        element.appendChild(docLink);\n",
              "      }\n",
              "    </script>\n",
              "  </div>\n",
              "\n",
              "\n",
              "<div id=\"df-2ad89962-6f15-4935-b201-3f0694fbbaf3\">\n",
              "  <button class=\"colab-df-quickchart\" onclick=\"quickchart('df-2ad89962-6f15-4935-b201-3f0694fbbaf3')\"\n",
              "            title=\"Suggest charts\"\n",
              "            style=\"display:none;\">\n",
              "\n",
              "<svg xmlns=\"http://www.w3.org/2000/svg\" height=\"24px\"viewBox=\"0 0 24 24\"\n",
              "     width=\"24px\">\n",
              "    <g>\n",
              "        <path d=\"M19 3H5c-1.1 0-2 .9-2 2v14c0 1.1.9 2 2 2h14c1.1 0 2-.9 2-2V5c0-1.1-.9-2-2-2zM9 17H7v-7h2v7zm4 0h-2V7h2v10zm4 0h-2v-4h2v4z\"/>\n",
              "    </g>\n",
              "</svg>\n",
              "  </button>\n",
              "\n",
              "<style>\n",
              "  .colab-df-quickchart {\n",
              "      --bg-color: #E8F0FE;\n",
              "      --fill-color: #1967D2;\n",
              "      --hover-bg-color: #E2EBFA;\n",
              "      --hover-fill-color: #174EA6;\n",
              "      --disabled-fill-color: #AAA;\n",
              "      --disabled-bg-color: #DDD;\n",
              "  }\n",
              "\n",
              "  [theme=dark] .colab-df-quickchart {\n",
              "      --bg-color: #3B4455;\n",
              "      --fill-color: #D2E3FC;\n",
              "      --hover-bg-color: #434B5C;\n",
              "      --hover-fill-color: #FFFFFF;\n",
              "      --disabled-bg-color: #3B4455;\n",
              "      --disabled-fill-color: #666;\n",
              "  }\n",
              "\n",
              "  .colab-df-quickchart {\n",
              "    background-color: var(--bg-color);\n",
              "    border: none;\n",
              "    border-radius: 50%;\n",
              "    cursor: pointer;\n",
              "    display: none;\n",
              "    fill: var(--fill-color);\n",
              "    height: 32px;\n",
              "    padding: 0;\n",
              "    width: 32px;\n",
              "  }\n",
              "\n",
              "  .colab-df-quickchart:hover {\n",
              "    background-color: var(--hover-bg-color);\n",
              "    box-shadow: 0 1px 2px rgba(60, 64, 67, 0.3), 0 1px 3px 1px rgba(60, 64, 67, 0.15);\n",
              "    fill: var(--button-hover-fill-color);\n",
              "  }\n",
              "\n",
              "  .colab-df-quickchart-complete:disabled,\n",
              "  .colab-df-quickchart-complete:disabled:hover {\n",
              "    background-color: var(--disabled-bg-color);\n",
              "    fill: var(--disabled-fill-color);\n",
              "    box-shadow: none;\n",
              "  }\n",
              "\n",
              "  .colab-df-spinner {\n",
              "    border: 2px solid var(--fill-color);\n",
              "    border-color: transparent;\n",
              "    border-bottom-color: var(--fill-color);\n",
              "    animation:\n",
              "      spin 1s steps(1) infinite;\n",
              "  }\n",
              "\n",
              "  @keyframes spin {\n",
              "    0% {\n",
              "      border-color: transparent;\n",
              "      border-bottom-color: var(--fill-color);\n",
              "      border-left-color: var(--fill-color);\n",
              "    }\n",
              "    20% {\n",
              "      border-color: transparent;\n",
              "      border-left-color: var(--fill-color);\n",
              "      border-top-color: var(--fill-color);\n",
              "    }\n",
              "    30% {\n",
              "      border-color: transparent;\n",
              "      border-left-color: var(--fill-color);\n",
              "      border-top-color: var(--fill-color);\n",
              "      border-right-color: var(--fill-color);\n",
              "    }\n",
              "    40% {\n",
              "      border-color: transparent;\n",
              "      border-right-color: var(--fill-color);\n",
              "      border-top-color: var(--fill-color);\n",
              "    }\n",
              "    60% {\n",
              "      border-color: transparent;\n",
              "      border-right-color: var(--fill-color);\n",
              "    }\n",
              "    80% {\n",
              "      border-color: transparent;\n",
              "      border-right-color: var(--fill-color);\n",
              "      border-bottom-color: var(--fill-color);\n",
              "    }\n",
              "    90% {\n",
              "      border-color: transparent;\n",
              "      border-bottom-color: var(--fill-color);\n",
              "    }\n",
              "  }\n",
              "</style>\n",
              "\n",
              "  <script>\n",
              "    async function quickchart(key) {\n",
              "      const quickchartButtonEl =\n",
              "        document.querySelector('#' + key + ' button');\n",
              "      quickchartButtonEl.disabled = true;  // To prevent multiple clicks.\n",
              "      quickchartButtonEl.classList.add('colab-df-spinner');\n",
              "      try {\n",
              "        const charts = await google.colab.kernel.invokeFunction(\n",
              "            'suggestCharts', [key], {});\n",
              "      } catch (error) {\n",
              "        console.error('Error during call to suggestCharts:', error);\n",
              "      }\n",
              "      quickchartButtonEl.classList.remove('colab-df-spinner');\n",
              "      quickchartButtonEl.classList.add('colab-df-quickchart-complete');\n",
              "    }\n",
              "    (() => {\n",
              "      let quickchartButtonEl =\n",
              "        document.querySelector('#df-2ad89962-6f15-4935-b201-3f0694fbbaf3 button');\n",
              "      quickchartButtonEl.style.display =\n",
              "        google.colab.kernel.accessAllowed ? 'block' : 'none';\n",
              "    })();\n",
              "  </script>\n",
              "</div>\n",
              "\n",
              "    </div>\n",
              "  </div>\n"
            ],
            "text/plain": [
              "         date    source   medium delivery_available device_type  \\\n",
              "0  2020-05-11    google  organic            no data          PC   \n",
              "1  2020-05-11  facebook      cpc            no data      mobile   \n",
              "2  2020-05-11    google      cpc            no data      mobile   \n",
              "3  2020-05-11    google      cpc            no data          PC   \n",
              "4  2020-05-11  facebook  organic            no data          PC   \n",
              "\n",
              "  promo_activated filter_used  pageviews  visits  productClick  addToCart  \\\n",
              "0              no          no       4087    1233          5240       1048   \n",
              "1             yes          no       4326     544          9930       1984   \n",
              "2              no          no       3891    1450          5460       1090   \n",
              "3              no          no       2456     854          4250        848   \n",
              "4              no          no       2828    1000          4110        824   \n",
              "\n",
              "   checkout  transactions     revenue  ad spend  \n",
              "0    672.00            90    ₱456,877  ₱384,039  \n",
              "1   1812.48           217  ₱1,289,066  ₱817,514  \n",
              "2    766.72           100    ₱554,427  ₱435,105  \n",
              "3    520.96            71    ₱416,561  ₱635,599  \n",
              "4    449.28            62    ₱326,176  ₱428,962  "
            ]
          },
          "execution_count": 5,
          "metadata": {},
          "output_type": "execute_result"
        }
      ],
      "source": [
        "data = pd.read_csv('https://raw.githubusercontent.com/cherrymaegrace/AIR_Projects/refs/heads/main/06_optimized_marketing_ai_agents/dataset/ai-first-sales-data.csv')\n",
        "data.head()"
      ]
    },
    {
      "cell_type": "code",
      "execution_count": 6,
      "metadata": {
        "id": "vFuRhq3VEN8h"
      },
      "outputs": [],
      "source": [
        "struct = []"
      ]
    },
    {
      "cell_type": "markdown",
      "metadata": {
        "id": "B6lPeVe5W58Y"
      },
      "source": [
        "# Data Processing Functions"
      ]
    },
    {
      "cell_type": "code",
      "execution_count": 7,
      "metadata": {
        "id": "R3Qwk2kZ4lSG"
      },
      "outputs": [],
      "source": [
        "# Cleaning and formatting the dataset\n",
        "def clean_data(context_variables):\n",
        "  data = context_variables['data']\n",
        "\n",
        "  # Remove any commas and currency symbols from 'revenue' and 'ad spend' columns and convert to numeric\n",
        "  data['revenue'] = data['revenue'].str.replace('[₱, ]', '', regex=True).astype(float)\n",
        "  data['ad spend'] = data['ad spend'].str.replace('[₱, ]', '', regex=True).astype(float)\n",
        "\n",
        "  # Check for missing or inconsistent data\n",
        "  missing_data_summary = data.isnull().sum()\n",
        "\n",
        "  # Ensure all column types are appropriate and consistent\n",
        "  data_types = data.dtypes\n",
        "\n",
        "  data_info = {\n",
        "      'first_five_rows': data.head(),\n",
        "      'missing_data_summary': missing_data_summary,\n",
        "      'data_types': data_types\n",
        "  }\n",
        "\n",
        "  return data_info"
      ]
    },
    {
      "cell_type": "code",
      "execution_count": 8,
      "metadata": {
        "id": "EnIlOGJL4oZo"
      },
      "outputs": [],
      "source": [
        "# Computing performance metrics\n",
        "def compute_metrics(data):\n",
        "  data['transactions'] = data['transactions'].replace(0, np.nan)\n",
        "  data['addToCart'] = data['addToCart'].replace(0, np.nan)\n",
        "\n",
        "  # Conversion Rate (CR)\n",
        "  data['conversion_rate'] = data['transactions'] / data['visits']\n",
        "\n",
        "  # Return on Ad Spend (ROAS)\n",
        "  data['roas'] = data['revenue'] / data['ad spend']\n",
        "\n",
        "  # Cost per Acquisition (CPA)\n",
        "  data['cpa'] = data['ad spend'] / data['transactions']\n",
        "\n",
        "  # Engagement Rate (ER)\n",
        "  data['engagement_rate'] = data['productClick'] / data['pageviews']\n",
        "\n",
        "  # Cart Abandonment Rate (CAR)\n",
        "  data['cart_abandonment_rate'] = (data['addToCart'] - data['checkout']) / data['addToCart']\n",
        "\n",
        "  # Revenue per Visit (RPV)\n",
        "  data['revenue_per_visit'] = data['revenue'] / data['visits']\n",
        "\n",
        "  return data"
      ]
    },
    {
      "cell_type": "code",
      "execution_count": 9,
      "metadata": {
        "id": "ZiC8MX4mBCe1"
      },
      "outputs": [],
      "source": [
        "# Aggregate metrics by source and medium\n",
        "def aggregate_metrics(data):\n",
        "\n",
        "  aggregated_metrics = data.groupby(['source', 'medium']).agg({\n",
        "      'conversion_rate': 'mean',\n",
        "      'roas': 'mean',\n",
        "      'cpa': 'mean',\n",
        "      'engagement_rate': 'mean',\n",
        "      'cart_abandonment_rate': 'mean',\n",
        "      'revenue_per_visit': 'mean'\n",
        "  }).reset_index()\n",
        "\n",
        "  return aggregated_metrics"
      ]
    },
    {
      "cell_type": "code",
      "execution_count": 10,
      "metadata": {
        "id": "MquLSDSqQk8b"
      },
      "outputs": [],
      "source": [
        "# Performance evaluation: Ranking sources and flagging improvements\n",
        "def evaluate_performance(context_variables):\n",
        "  data = context_variables['data']\n",
        "\n",
        "  # Calculate metrics\n",
        "  data = compute_metrics(data)\n",
        "\n",
        "  # Aggregate metrics by source and medium\n",
        "  aggregated_metrics = aggregate_metrics(data)\n",
        "\n",
        "  # Rank sources by ROAS, Conversion Rate, and Revenue per Visit\n",
        "  ranked_metrics = aggregated_metrics.sort_values(by=['roas', 'conversion_rate', 'revenue_per_visit'], ascending=False)\n",
        "\n",
        "  # Flag sources with high CPA or CAR as areas needing improvement\n",
        "  threshold_cpa = data['cpa'].mean()  # Using the mean CPA as a threshold for \"high\"\n",
        "  threshold_car = data['cart_abandonment_rate'].mean()  # Using the mean CAR as a threshold for \"high\"\n",
        "\n",
        "  # Adding flags for underperforming metrics\n",
        "  ranked_metrics['high_cpa_flag'] = ranked_metrics['cpa'] > threshold_cpa\n",
        "  ranked_metrics['high_car_flag'] = ranked_metrics['cart_abandonment_rate'] > threshold_car\n",
        "\n",
        "  return ranked_metrics[['source', 'medium', 'roas', 'conversion_rate', 'revenue_per_visit']]"
      ]
    },
    {
      "cell_type": "code",
      "execution_count": 11,
      "metadata": {
        "id": "tFjOOuol_qZl"
      },
      "outputs": [],
      "source": [
        "def analyze_trends(context_variables):\n",
        "  data=context_variables['data']\n",
        "\n",
        "  # Calculate metrics\n",
        "  data = compute_metrics(data)\n",
        "\n",
        "  # Aggregate metrics by date\n",
        "  daily_metrics = data.groupby('date').agg({\n",
        "      'conversion_rate': 'mean',\n",
        "      'roas': 'mean',\n",
        "      'cpa': 'mean'\n",
        "  }).reset_index()\n",
        "\n",
        "  # Detect anomalies using z-scores\n",
        "  daily_metrics['roas_zscore'] = zscore(daily_metrics['roas'])\n",
        "\n",
        "  # Identify significant anomalies (z-score threshold)\n",
        "  anomalies = daily_metrics[daily_metrics['roas_zscore'].abs() > 2]\n",
        "\n",
        "  anomalies_detected = f'Anomalies detected: \\n\\n {anomalies}'\n",
        "\n",
        "  return anomalies_detected"
      ]
    },
    {
      "cell_type": "markdown",
      "metadata": {
        "id": "AlBYU8ExW1RQ"
      },
      "source": [
        "# Agents"
      ]
    },
    {
      "cell_type": "markdown",
      "metadata": {
        "id": "sqJPwPxWDUyn"
      },
      "source": [
        "## **Agent: Performance Evaluator**\n",
        "**Description**:  \n",
        "This agent evaluates the effectiveness of traffic sources and campaigns by ranking them based on key performance metrics. It flags underperforming areas to identify opportunities for improvement.\n",
        "\n",
        "**Analysis Methodology**:\n",
        "1. **Aggregate Metrics**:\n",
        "   - Group data by traffic source and medium.\n",
        "   - Calculate averages for metrics like ROAS, CR, CPA, etc.\n",
        "2. **Rank Campaigns**:\n",
        "   - Sort by primary metrics (e.g., ROAS, CR) to identify top performers.\n",
        "3. **Flag Underperformers**:\n",
        "   - Define thresholds (e.g., mean CPA or CAR) and flag campaigns exceeding them.\n",
        "4. **Output Insights**:\n",
        "   - Provide a ranked list of campaigns and highlight areas needing improvement."
      ]
    },
    {
      "cell_type": "code",
      "execution_count": 12,
      "metadata": {
        "id": "WS7xgrBTDSa8"
      },
      "outputs": [],
      "source": [
        "performance_evaluator = Agent(\n",
        "    name=\"Performance Evaluator\",\n",
        "    instructions=\"Identify and rank the best-performing traffic sources and campaigns using metrics like ROAS, CR, and RPV. Highlight sources with high CPA or CAR for improvement.\",\n",
        "    model=\"gpt-4o-mini\",\n",
        "    functions=[clean_data, evaluate_performance]\n",
        ")"
      ]
    },
    {
      "cell_type": "markdown",
      "metadata": {
        "id": "Netb4G_MELLF"
      },
      "source": [
        "## **Agent: Trend Analyzer**\n",
        "**Description**:  \n",
        "This agent identifies patterns and anomalies in campaign performance over time, providing insights into seasonality and sudden changes in effectiveness.\n",
        "\n",
        "**Analysis Methodology**:\n",
        "1. **Aggregate Data by Time**:\n",
        "   - Group metrics by date, week, or month to analyze time trends.\n",
        "2. **Detect Anomalies**:\n",
        "   - Use statistical methods (e.g., z-scores, interquartile range) to identify outliers.\n",
        "3. **Seasonal Analysis**:\n",
        "   - Highlight periodic peaks or dips aligning with promotions or holidays.\n",
        "4. **Output Insights**:\n",
        "   - Summarize significant trends and suggest data-driven responses."
      ]
    },
    {
      "cell_type": "code",
      "execution_count": 13,
      "metadata": {
        "id": "3JnjKjzJEKzM"
      },
      "outputs": [],
      "source": [
        "trend_analyzer = Agent(\n",
        "    name=\"Trend Analyzer\",\n",
        "    instructions=\"Analyze trends over time for metrics such as ROAS, CR, and RPV. Detect and flag anomalies or sudden changes in performance.\",\n",
        "    model=\"gpt-4o-mini\",\n",
        "    functions=[clean_data, analyze_trends]\n",
        ")"
      ]
    },
    {
      "cell_type": "markdown",
      "metadata": {
        "id": "N9Zsc03fEjo7"
      },
      "source": [
        "## **Agent: Campaign Recommender**\n",
        "**Description**:  \n",
        "This agent leverages insights from performance and trend analysis to provide actionable recommendations for optimizing campaigns and reallocating budgets.\n",
        "\n",
        "**Analysis Methodology**:\n",
        "1. **Incorporate Insights**:\n",
        "   - Use flagged metrics (e.g., high CPA or CAR) and trend anomalies as inputs.\n",
        "2. **Recommend Optimizations**:\n",
        "   - Suggest targeting changes, cost adjustments, or content improvements for underperforming campaigns.\n",
        "3. **Budget Allocation**:\n",
        "   - Propose reallocating budgets to maximize ROAS and overall performance.\n",
        "4. **Highlight Opportunities**:\n",
        "   - Identify campaigns with growth potential during peak periods or for specific audience segments.\n",
        "5. **Output Recommendations**:\n",
        "   - Provide a prioritized list of actionable strategies for campaign improvements."
      ]
    },
    {
      "cell_type": "code",
      "execution_count": 14,
      "metadata": {
        "id": "ajOItEr_A39f"
      },
      "outputs": [],
      "source": [
        "campaign_recommender = Agent(\n",
        "    name=\"Campaign Recommender\",\n",
        "    model=\"gpt-4o-mini\",\n",
        "    instructions=\"Based on the analysis of traffic sources, campaigns, and performance trends, recommend strategies to optimize underperforming campaigns. Suggest reallocation of budget to maximize ROAS and improve revenue generation. Address flagged issues such as high CPA or high CAR with actionable improvements.\",\n",
        ")"
      ]
    },
    {
      "cell_type": "markdown",
      "metadata": {
        "id": "d1PLmCg8E3xH"
      },
      "source": [
        "# **Implementation**"
      ]
    },
    {
      "cell_type": "code",
      "execution_count": 15,
      "metadata": {
        "id": "4dFAcE8mCSCM"
      },
      "outputs": [],
      "source": [
        "def to_campaign_recommender():\n",
        "  return campaign_recommender\n",
        "\n",
        "agent = Agent(\n",
        "    functions=[to_campaign_recommender]\n",
        ")"
      ]
    },
    {
      "cell_type": "code",
      "execution_count": 16,
      "metadata": {
        "collapsed": true,
        "id": "5trWcNRz9Xgx"
      },
      "outputs": [],
      "source": [
        "performance_evaluator_response = client.run(\n",
        "    agent = performance_evaluator,\n",
        "    messages = struct,\n",
        "    context_variables = {'data': data}\n",
        ")\n",
        "perf_eval = performance_evaluator_response.messages[-1]['content']"
      ]
    },
    {
      "cell_type": "code",
      "execution_count": 17,
      "metadata": {
        "collapsed": true,
        "id": "-hsoerwi9h9x"
      },
      "outputs": [],
      "source": [
        "trend_analyzer_response = client.run(\n",
        "    agent = trend_analyzer,\n",
        "    messages = struct,\n",
        "    context_variables = {'data': data}\n",
        ")\n",
        "trend_analysis = trend_analyzer_response.messages[-1]['content']"
      ]
    },
    {
      "cell_type": "code",
      "execution_count": 18,
      "metadata": {
        "id": "AgKdDF7dCjrZ"
      },
      "outputs": [],
      "source": [
        "struct.append({'role':'assistant', 'content': f'Performance Evaluation:\\n\\n {perf_eval}'})\n",
        "struct.append({'role':'assistant', 'content': f'Trend Analysis:\\n\\n {trend_analysis}'})"
      ]
    },
    {
      "cell_type": "code",
      "execution_count": 19,
      "metadata": {
        "id": "vLp7yzlcDDSf"
      },
      "outputs": [],
      "source": [
        "campaign_reco_response = client.run(\n",
        "    agent = agent,\n",
        "    messages = struct,\n",
        "    context_variables = {'data': data}\n",
        ")\n",
        "\n",
        "campaign_recommendations = campaign_reco_response.messages[-1]['content']"
      ]
    },
    {
      "cell_type": "markdown",
      "metadata": {
        "id": "FpuLhCCXHVb8"
      },
      "source": [
        "# Findings and Reports"
      ]
    },
    {
      "cell_type": "markdown",
      "metadata": {
        "id": "TqCIOpulFZlk"
      },
      "source": [
        "## Performance Evaluation"
      ]
    },
    {
      "cell_type": "code",
      "execution_count": 21,
      "metadata": {
        "colab": {
          "base_uri": "https://localhost:8080/"
        },
        "id": "Inx4S8E1FQw3",
        "outputId": "3a94f08a-6678-4c85-d809-8adef1a6044a"
      },
      "outputs": [
        {
          "name": "stdout",
          "output_type": "stream",
          "text": [
            "### Performance Analysis of Traffic Sources and Campaigns\n",
            "\n",
            "**Best-Performing Traffic Sources:**\n",
            "\n",
            "Here’s a ranking of the top traffic sources based on Return on Ad Spend (ROAS), Conversion Rate (CR), and Revenue per Visit (RPV):\n",
            "\n",
            "| Rank | Source         | Medium   | ROAS    | Conversion Rate | Revenue per Visit |\n",
            "|------|----------------|----------|---------|------------------|--------------------|\n",
            "| 1    | Google         | Organic  | 0.6507  | 0.5322           | 2866.12            |\n",
            "| 2    | Facebook       | CPC      | 0.6000  | 0.5127           | 2936.31            |\n",
            "| 3    | Facebook       | Organic  | 0.4557  | 0.5164           | 2832.68            |\n",
            "| 4    | Google         | CPC      | 0.4005  | 0.5032           | 2876.96            |\n",
            "| 5    | TikTok         | CPA      | 0.2088  | 0.5112           | 2504.06            |\n",
            "| 6    | Cityads        | CPA      | 0.0641  | 0.5073           | 2350.13            |\n",
            "| 7    | Instagram      | CPC      | 0.0610  | 0.5316           | 2487.15            |\n",
            "| 8    | Email          | Promo    | 0.0583  | 0.5433           | 2509.50            |\n",
            "\n",
            "### Sources Needing Improvement (High CPA or CAR)\n",
            "\n",
            "Several traffic sources have a high cost per acquisition (CPA) or customer acquisition rate (CAR), indicating potential areas for improvement:\n",
            "\n",
            "| Source         | Medium   | ROAS    | Conversion Rate | Revenue per Visit |\n",
            "|----------------|----------|---------|------------------|--------------------|\n",
            "| Other          | CPA      | 0.0378  | 0.4696           | 1422.04            |\n",
            "| Actionpay      | CPA      | 0.0098  | 0.5868           | 1380.71            |\n",
            "| Opmcpa         | CPA      | 0.0093  | 0.6600           | 1756.46            |\n",
            "| Mytarget       | CPC      | 0.0001  | 0.6667           | 43.98              |\n",
            "| Youtube        | CPC      | 0.0000  | NaN              | 0.00               |\n",
            "\n",
            "### Summary\n",
            "\n",
            "- The best-performing traffic sources are **Google (Organic)** and **Facebook (CPC)** with a strong ROAS and high conversion rates.\n",
            "- Traffic sources with high CPA or CAR, such as **Other**, **Actionpay**, and **Opmcpa**, are identified for potential improvements in their marketing strategies to enhance performance. \n",
            "\n",
            "Optimizing campaigns in these areas can lead to better profitability and overall campaign success.\n"
          ]
        }
      ],
      "source": [
        "print(perf_eval)"
      ]
    },
    {
      "cell_type": "markdown",
      "metadata": {
        "id": "Kh-twMjjFdRW"
      },
      "source": [
        "## Trend Analysis"
      ]
    },
    {
      "cell_type": "code",
      "execution_count": 22,
      "metadata": {
        "colab": {
          "base_uri": "https://localhost:8080/"
        },
        "id": "yAIftssZFUy5",
        "outputId": "bd72c4c4-3e4a-4b71-9e23-a32e8bb886ea"
      },
      "outputs": [
        {
          "name": "stdout",
          "output_type": "stream",
          "text": [
            "### Data Cleaning Results\n",
            "The dataset was successfully cleaned and contains the following information:\n",
            "- **First Five Rows**: Sample data that includes various metrics such as `date`, `source`, `medium`, `pageviews`, `visits`, `transactions`, `revenue`, and `ad spend`.\n",
            "- **Missing Data Summary**: No missing values were found in any of the columns.\n",
            "- **Data Types**: Each column has been correctly identified with appropriate data types (e.g., integers for counts, floats for revenue and ad spend, and objects for categorical variables).\n",
            "\n",
            "### Trends Analysis Results\n",
            "During the analysis of performance metrics over time, several anomalies were detected. Here are some key findings:\n",
            "\n",
            "- **Anomalies Detected**: Specific dates with unusual metrics were flagged:\n",
            "  ```\n",
            "                date  conversion_rate      roas            cpa  roas_zscore\n",
            "  44   2020-02-14         0.496201  0.655886  209378.943429     3.416999\n",
            "  45   2020-02-15         0.581179  0.626678  190863.324569     3.110732\n",
            "  50   2020-02-20         0.547015  0.541562  211927.397551     2.218233\n",
            "  51   2020-02-21         0.542136  0.811400  220199.121350     5.047651\n",
            "  53   2020-02-23         0.556322  0.664549  173338.106756     3.507827\n",
            "  64   2020-03-05         0.578724  0.522504  215363.530623     2.018407\n",
            "  65   2020-03-06         0.596251  0.670909  219873.531655     3.574525\n",
            "  66   2020-03-07         0.570854  0.549316  196111.129359     2.299539\n",
            "  67   2020-03-08         0.565260  0.660933  223715.311998     3.469915\n",
            "  73   2020-03-14         0.564480  0.552790  191960.923594     2.335965\n",
            "  94   2020-04-04         0.532077  0.546672  213320.512692     2.271823\n",
            "  244  2020-09-01         0.423920  0.567332  191307.205725     2.488453\n",
            "  ```\n",
            "  These anomalies are characterized by unusually high or low values of `roas`, `conversion rate`, and `cpa`, indicated by their respective z-scores.\n",
            "\n",
            "### Next Steps\n",
            "To further investigate the anomalies, you may want to:\n",
            "1. Analyze external factors that could have influenced these metrics on the flagged dates (e.g., marketing campaigns, seasonal changes).\n",
            "2. Adjust strategies based on the performance insights collected from these anomalies to enhance overall marketing effectiveness.\n",
            "\n",
            "Would you like to dive deeper into any specific area or conduct additional analyses?\n"
          ]
        }
      ],
      "source": [
        "print(trend_analysis)"
      ]
    },
    {
      "cell_type": "markdown",
      "metadata": {
        "id": "-MESLW1eFfJ5"
      },
      "source": [
        "## Campaign Recommendation"
      ]
    },
    {
      "cell_type": "code",
      "execution_count": 23,
      "metadata": {
        "colab": {
          "base_uri": "https://localhost:8080/"
        },
        "id": "A28zkr6NFSC1",
        "outputId": "068fdf2a-1740-4119-c465-c1d8e605889e"
      },
      "outputs": [
        {
          "name": "stdout",
          "output_type": "stream",
          "text": [
            "### Campaign Optimization Recommendations\n",
            "\n",
            "Based on the analysis of traffic sources, campaigns, and performance trends, here are actionable strategies to optimize underperforming campaigns, reallocate budgets, and address flagged issues:\n",
            "\n",
            "### 1. Reallocate Budget\n",
            "\n",
            "**Reduce Spend on Underperforming Sources:**\n",
            "- **Actionpay, Other, Mytarget:** These sources have high CPA and low ROAS, indicating poor performance. Temporarily reduce or halt budget allocation to these campaigns.\n",
            "- **Recommendation:** Allocate a greater share of the marketing budget to high-performing channels like **Google Organic** and **Facebook CPC**, which have shown strong ROAS and conversion rates. A suggested split could be:\n",
            "  - **Google Organic**: Increase budget from 20% to 30%\n",
            "  - **Facebook CPC**: Increase budget from 15% to 25%\n",
            "  - **Other Sources**: Reduce total budget allocation to 15% (from 40% combined)\n",
            "\n",
            "### 2. Improve Underperforming Campaigns\n",
            "\n",
            "**Targeted Improvements for High CPA Campaigns:**\n",
            "- **Actionpay and Other:** \n",
            "  - Refine targeting strategies to attract higher-quality leads. \n",
            "  - Utilize A/B testing on ad creatives to identify more compelling messages or visuals.\n",
            "  - Optimize landing pages for better user experience and conversion rates.\n",
            "\n",
            "**Optimize TikTok and Instagram Campaigns:**\n",
            "- Shift from a direct sales focus to brand awareness to enhance engagement before other campaigns. \n",
            "- Create engaging video content on TikTok that resonates with the platform’s audience.\n",
            "- Run contests or promotions on Instagram to boost interaction and drive traffic to high-potential offers.\n",
            "\n",
            "### 3. Address High Cost of Acquisition (CPA) and Customer Acquisition Rate (CAR)\n",
            "\n",
            "**Lower CPA through Enhanced Remarketing:**\n",
            "- Implement remarketing strategies targeting users who engaged with high-ROAS content but did not convert.\n",
            "  - Create tailored campaigns to re-engage them via emails or specific ads across other channels.\n",
            "  \n",
            "**Enhance Attribution Models:**\n",
            "- Revisit the attribution models used to assess campaign performance. Switching to a multi-touch attribution model may provide better insights into all touchpoints that led to conversions, rather than just the last click.\n",
            "\n",
            "### 4. Continuous Monitoring and Adjustment\n",
            "\n",
            "**Implement Real-Time Performance Tracking:**\n",
            "- Utilize analytics tools to monitor campaign performance metrics continuously. \n",
            "- Establish a monthly review process to adjust budget allocations based on the most recent data and emerging trends.\n",
            "- Regularly review flagged anomalies during the campaign, and adjust marketing strategies promptly.\n",
            "\n",
            "### 5. Utilize High-Performing Campaigns for Testing\n",
            "\n",
            "**Leverage Successful Strategies:**\n",
            "- Analyze successful campaigns in Google Organic and Facebook CPC for what content types, keywords, and demographics work best, then replicate these strategies across other underperforming channels.\n",
            "\n",
            "### Conclusion\n",
            "\n",
            "By implementing these budget reallocations, improving targeted campaigns, and continuously monitoring performance, you can maximize ROAS and improve overall revenue generation. Regular engagement with your audience and use of compelling content across channels will also help in driving conversions while lowering CPA and CAR.\n",
            "\n",
            "Would you like assistance in setting up these strategies or further analysis on specific campaigns?\n"
          ]
        }
      ],
      "source": [
        "print(campaign_recommendations)"
      ]
    }
  ],
  "metadata": {
    "colab": {
      "provenance": [],
      "toc_visible": true
    },
    "kernelspec": {
      "display_name": "Python 3",
      "name": "python3"
    },
    "language_info": {
      "name": "python"
    }
  },
  "nbformat": 4,
  "nbformat_minor": 0
}
